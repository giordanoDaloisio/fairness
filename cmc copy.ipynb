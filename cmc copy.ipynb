{
 "cells": [
  {
   "cell_type": "markdown",
   "metadata": {},
   "source": [
    "# Testing DEMV on _Contraceptive Method Choice_ dataset"
   ]
  },
  {
   "cell_type": "markdown",
   "metadata": {},
   "source": [
    "Source: [https://archive.ics.uci.edu/ml/datasets/Contraceptive+Method+Choice](https://archive.ics.uci.edu/ml/datasets/Contraceptive+Method+Choice)\n",
    "\n",
    "- Label: `contr_use`\n",
    "- Unprivileged group: `wife_religion=1 (islam) & wife_work=1 (non-work)`\n",
    "- Positive label: `2 (long-term)`"
   ]
  },
  {
   "cell_type": "code",
   "execution_count": 1,
   "metadata": {},
   "outputs": [],
   "source": [
    "import pandas as pd\n",
    "import numpy as np\n",
    "\n",
    "from sklearn.linear_model import LogisticRegression\n",
    "from sklearn.preprocessing import StandardScaler\n",
    "from sklearn.pipeline import Pipeline\n",
    "\n",
    "from fairlearn.reductions import ExponentiatedGradient, BoundedGroupLoss, ZeroOneLoss\n",
    "\n",
    "import matplotlib.pyplot as plt\n",
    "import seaborn as sns\n",
    "\n",
    "from utils import *\n",
    "from demv import DEMV\n",
    "\n",
    "import warnings\n",
    "warnings.filterwarnings('ignore')\n",
    "\n",
    "sns.set_style('whitegrid')\n",
    "%load_ext autoreload\n",
    "%autoreload 2"
   ]
  },
  {
   "cell_type": "code",
   "execution_count": 2,
   "metadata": {},
   "outputs": [
    {
     "data": {
      "text/html": [
       "<div>\n",
       "<style scoped>\n",
       "    .dataframe tbody tr th:only-of-type {\n",
       "        vertical-align: middle;\n",
       "    }\n",
       "\n",
       "    .dataframe tbody tr th {\n",
       "        vertical-align: top;\n",
       "    }\n",
       "\n",
       "    .dataframe thead th {\n",
       "        text-align: right;\n",
       "    }\n",
       "</style>\n",
       "<table border=\"1\" class=\"dataframe\">\n",
       "  <thead>\n",
       "    <tr style=\"text-align: right;\">\n",
       "      <th></th>\n",
       "      <th>wife_age</th>\n",
       "      <th>wife_edu</th>\n",
       "      <th>hus_edu</th>\n",
       "      <th>num_child</th>\n",
       "      <th>wife_religion</th>\n",
       "      <th>wife_work</th>\n",
       "      <th>hus_occ</th>\n",
       "      <th>living</th>\n",
       "      <th>media</th>\n",
       "      <th>contr_use</th>\n",
       "    </tr>\n",
       "  </thead>\n",
       "  <tbody>\n",
       "    <tr>\n",
       "      <th>0</th>\n",
       "      <td>24</td>\n",
       "      <td>2</td>\n",
       "      <td>3</td>\n",
       "      <td>3</td>\n",
       "      <td>1</td>\n",
       "      <td>1</td>\n",
       "      <td>2</td>\n",
       "      <td>3</td>\n",
       "      <td>0</td>\n",
       "      <td>1</td>\n",
       "    </tr>\n",
       "    <tr>\n",
       "      <th>1</th>\n",
       "      <td>45</td>\n",
       "      <td>1</td>\n",
       "      <td>3</td>\n",
       "      <td>10</td>\n",
       "      <td>1</td>\n",
       "      <td>1</td>\n",
       "      <td>3</td>\n",
       "      <td>4</td>\n",
       "      <td>0</td>\n",
       "      <td>1</td>\n",
       "    </tr>\n",
       "    <tr>\n",
       "      <th>2</th>\n",
       "      <td>43</td>\n",
       "      <td>2</td>\n",
       "      <td>3</td>\n",
       "      <td>7</td>\n",
       "      <td>1</td>\n",
       "      <td>1</td>\n",
       "      <td>3</td>\n",
       "      <td>4</td>\n",
       "      <td>0</td>\n",
       "      <td>1</td>\n",
       "    </tr>\n",
       "    <tr>\n",
       "      <th>3</th>\n",
       "      <td>42</td>\n",
       "      <td>3</td>\n",
       "      <td>2</td>\n",
       "      <td>9</td>\n",
       "      <td>1</td>\n",
       "      <td>1</td>\n",
       "      <td>3</td>\n",
       "      <td>3</td>\n",
       "      <td>0</td>\n",
       "      <td>1</td>\n",
       "    </tr>\n",
       "    <tr>\n",
       "      <th>4</th>\n",
       "      <td>36</td>\n",
       "      <td>3</td>\n",
       "      <td>3</td>\n",
       "      <td>8</td>\n",
       "      <td>1</td>\n",
       "      <td>1</td>\n",
       "      <td>3</td>\n",
       "      <td>2</td>\n",
       "      <td>0</td>\n",
       "      <td>1</td>\n",
       "    </tr>\n",
       "    <tr>\n",
       "      <th>...</th>\n",
       "      <td>...</td>\n",
       "      <td>...</td>\n",
       "      <td>...</td>\n",
       "      <td>...</td>\n",
       "      <td>...</td>\n",
       "      <td>...</td>\n",
       "      <td>...</td>\n",
       "      <td>...</td>\n",
       "      <td>...</td>\n",
       "      <td>...</td>\n",
       "    </tr>\n",
       "    <tr>\n",
       "      <th>1468</th>\n",
       "      <td>33</td>\n",
       "      <td>4</td>\n",
       "      <td>4</td>\n",
       "      <td>2</td>\n",
       "      <td>1</td>\n",
       "      <td>0</td>\n",
       "      <td>2</td>\n",
       "      <td>4</td>\n",
       "      <td>0</td>\n",
       "      <td>3</td>\n",
       "    </tr>\n",
       "    <tr>\n",
       "      <th>1469</th>\n",
       "      <td>33</td>\n",
       "      <td>4</td>\n",
       "      <td>4</td>\n",
       "      <td>3</td>\n",
       "      <td>1</td>\n",
       "      <td>1</td>\n",
       "      <td>1</td>\n",
       "      <td>4</td>\n",
       "      <td>0</td>\n",
       "      <td>3</td>\n",
       "    </tr>\n",
       "    <tr>\n",
       "      <th>1470</th>\n",
       "      <td>39</td>\n",
       "      <td>3</td>\n",
       "      <td>3</td>\n",
       "      <td>8</td>\n",
       "      <td>1</td>\n",
       "      <td>0</td>\n",
       "      <td>1</td>\n",
       "      <td>4</td>\n",
       "      <td>0</td>\n",
       "      <td>3</td>\n",
       "    </tr>\n",
       "    <tr>\n",
       "      <th>1471</th>\n",
       "      <td>33</td>\n",
       "      <td>3</td>\n",
       "      <td>3</td>\n",
       "      <td>4</td>\n",
       "      <td>1</td>\n",
       "      <td>0</td>\n",
       "      <td>2</td>\n",
       "      <td>2</td>\n",
       "      <td>0</td>\n",
       "      <td>3</td>\n",
       "    </tr>\n",
       "    <tr>\n",
       "      <th>1472</th>\n",
       "      <td>17</td>\n",
       "      <td>3</td>\n",
       "      <td>3</td>\n",
       "      <td>1</td>\n",
       "      <td>1</td>\n",
       "      <td>1</td>\n",
       "      <td>2</td>\n",
       "      <td>4</td>\n",
       "      <td>0</td>\n",
       "      <td>3</td>\n",
       "    </tr>\n",
       "  </tbody>\n",
       "</table>\n",
       "<p>1473 rows × 10 columns</p>\n",
       "</div>"
      ],
      "text/plain": [
       "      wife_age  wife_edu  hus_edu  num_child  wife_religion  wife_work  \\\n",
       "0           24         2        3          3              1          1   \n",
       "1           45         1        3         10              1          1   \n",
       "2           43         2        3          7              1          1   \n",
       "3           42         3        2          9              1          1   \n",
       "4           36         3        3          8              1          1   \n",
       "...        ...       ...      ...        ...            ...        ...   \n",
       "1468        33         4        4          2              1          0   \n",
       "1469        33         4        4          3              1          1   \n",
       "1470        39         3        3          8              1          0   \n",
       "1471        33         3        3          4              1          0   \n",
       "1472        17         3        3          1              1          1   \n",
       "\n",
       "      hus_occ  living  media  contr_use  \n",
       "0           2       3      0          1  \n",
       "1           3       4      0          1  \n",
       "2           3       4      0          1  \n",
       "3           3       3      0          1  \n",
       "4           3       2      0          1  \n",
       "...       ...     ...    ...        ...  \n",
       "1468        2       4      0          3  \n",
       "1469        1       4      0          3  \n",
       "1470        1       4      0          3  \n",
       "1471        2       2      0          3  \n",
       "1472        2       4      0          3  \n",
       "\n",
       "[1473 rows x 10 columns]"
      ]
     },
     "execution_count": 2,
     "metadata": {},
     "output_type": "execute_result"
    }
   ],
   "source": [
    "data = pd.read_csv('data2/cmc.data', names=['wife_age', 'wife_edu', 'hus_edu', 'num_child', 'wife_religion', 'wife_work', 'hus_occ', 'living', 'media', 'contr_use'])\n",
    "data"
   ]
  },
  {
   "cell_type": "code",
   "execution_count": 3,
   "metadata": {},
   "outputs": [],
   "source": [
    "label = 'contr_use'\n",
    "sensitive_features = ['wife_religion', 'wife_work']\n",
    "unpriv_group = {'wife_religion': 1, 'wife_work': 1}\n",
    "positive_label= 2"
   ]
  },
  {
   "cell_type": "code",
   "execution_count": 4,
   "metadata": {},
   "outputs": [],
   "source": [
    "pipeline = Pipeline([\n",
    "  ('scaler', StandardScaler()),\n",
    "  ('classifier', LogisticRegression())\n",
    "])"
   ]
  },
  {
   "cell_type": "markdown",
   "metadata": {},
   "source": [
    "## Biased dataset"
   ]
  },
  {
   "cell_type": "code",
   "execution_count": 5,
   "metadata": {},
   "outputs": [],
   "source": [
    "model, bias_metrics, pred = cross_val2(pipeline, data, label, unpriv_group, sensitive_features, positive_label=positive_label)"
   ]
  },
  {
   "cell_type": "code",
   "execution_count": 6,
   "metadata": {},
   "outputs": [
    {
     "name": "stdout",
     "output_type": "stream",
     "text": [
      "Statistical parity:  -0.126  +-  0.032\n",
      "Disparate impact:  0.494  +-  0.121\n",
      "Zero one loss:  0.33  +-  0.147\n",
      "F1 score:  0.517  +-  0.039\n",
      "Accuracy score:  0.521  +-  0.038\n"
     ]
    }
   ],
   "source": [
    "print_metrics(bias_metrics)"
   ]
  },
  {
   "cell_type": "markdown",
   "metadata": {},
   "source": [
    "## DEMV dataset"
   ]
  },
  {
   "cell_type": "code",
   "execution_count": 7,
   "metadata": {},
   "outputs": [],
   "source": [
    "demv = DEMV(round_level=1)\n",
    "demv_data = data.copy()"
   ]
  },
  {
   "cell_type": "code",
   "execution_count": 8,
   "metadata": {},
   "outputs": [],
   "source": [
    "model, demv_metrics = cross_val(pipeline, demv_data, label, unpriv_group, sensitive_features, debiaser=demv, positive_label=positive_label)"
   ]
  },
  {
   "cell_type": "code",
   "execution_count": 9,
   "metadata": {},
   "outputs": [
    {
     "name": "stdout",
     "output_type": "stream",
     "text": [
      "Statistical parity:  0.01  +-  0.064\n",
      "Disparate impact:  0.656  +-  0.16\n",
      "Zero one loss:  0.231  +-  0.109\n",
      "F1 score:  0.504  +-  0.039\n",
      "Accuracy score:  0.512  +-  0.037\n"
     ]
    }
   ],
   "source": [
    "print_metrics(demv_metrics)"
   ]
  },
  {
   "cell_type": "markdown",
   "metadata": {},
   "source": [
    "## DEMV Evaluation"
   ]
  },
  {
   "cell_type": "code",
   "execution_count": 10,
   "metadata": {},
   "outputs": [],
   "source": [
    "eval_data = data.copy()"
   ]
  },
  {
   "cell_type": "code",
   "execution_count": 11,
   "metadata": {},
   "outputs": [
    {
     "data": {
      "text/plain": [
       "15"
      ]
     },
     "execution_count": 11,
     "metadata": {},
     "output_type": "execute_result"
    }
   ],
   "source": [
    "demv.get_iters()"
   ]
  },
  {
   "cell_type": "code",
   "execution_count": 12,
   "metadata": {},
   "outputs": [],
   "source": [
    "metrics = eval_demv(3, demv.get_iters(), eval_data, pipeline, label, unpriv_group, sensitive_features, positive_label)"
   ]
  },
  {
   "cell_type": "markdown",
   "metadata": {},
   "source": [
    "Execution time: ~6min"
   ]
  },
  {
   "cell_type": "markdown",
   "metadata": {},
   "source": [
    "## Blackbox PostProcessing"
   ]
  },
  {
   "cell_type": "code",
   "execution_count": 13,
   "metadata": {},
   "outputs": [],
   "source": [
    "sensitive_features = ['combined']\n",
    "unpriv_group = {'combined': 1}"
   ]
  },
  {
   "cell_type": "code",
   "execution_count": 14,
   "metadata": {},
   "outputs": [],
   "source": [
    "data.loc[:,\"combined\"] = 0\n",
    "data.loc[(data['wife_religion'] == 1) & (data[\"wife_work\"] == 1),\"combined\"] = 1"
   ]
  },
  {
   "cell_type": "code",
   "execution_count": 15,
   "metadata": {},
   "outputs": [],
   "source": [
    "#Now pred has the actual values on column \"y_true\" and predicted values on column \"contr_use\"\n",
    "\n",
    "pred.loc[:,\"combined\"] = 0\n",
    "pred.loc[(pred['wife_religion'] == 1) & (pred[\"wife_work\"] == 1),\"combined\"] = 1"
   ]
  },
  {
   "cell_type": "code",
   "execution_count": 16,
   "metadata": {},
   "outputs": [],
   "source": [
    "y_pred = pred[label].values\n",
    "y_true = pred['y_true'].values"
   ]
  },
  {
   "cell_type": "code",
   "execution_count": 17,
   "metadata": {},
   "outputs": [
    {
     "data": {
      "text/html": [
       "<div>\n",
       "<style scoped>\n",
       "    .dataframe tbody tr th:only-of-type {\n",
       "        vertical-align: middle;\n",
       "    }\n",
       "\n",
       "    .dataframe tbody tr th {\n",
       "        vertical-align: top;\n",
       "    }\n",
       "\n",
       "    .dataframe thead th {\n",
       "        text-align: right;\n",
       "    }\n",
       "</style>\n",
       "<table border=\"1\" class=\"dataframe\">\n",
       "  <thead>\n",
       "    <tr style=\"text-align: right;\">\n",
       "      <th></th>\n",
       "      <th>tp</th>\n",
       "      <th>fp</th>\n",
       "      <th>tn</th>\n",
       "      <th>fn</th>\n",
       "      <th>sens</th>\n",
       "      <th>spec</th>\n",
       "      <th>ppv</th>\n",
       "      <th>npv</th>\n",
       "      <th>j</th>\n",
       "      <th>f1</th>\n",
       "      <th>mcc</th>\n",
       "      <th>brier</th>\n",
       "      <th>auc</th>\n",
       "      <th>ap</th>\n",
       "      <th>true_prev</th>\n",
       "      <th>pred_prev</th>\n",
       "      <th>prev_diff</th>\n",
       "      <th>rel_prev_diff</th>\n",
       "    </tr>\n",
       "  </thead>\n",
       "  <tbody>\n",
       "    <tr>\n",
       "      <th>0</th>\n",
       "      <td>285.0</td>\n",
       "      <td>252.0</td>\n",
       "      <td>699.0</td>\n",
       "      <td>237.0</td>\n",
       "      <td>0.5214</td>\n",
       "      <td>0.7244</td>\n",
       "      <td>0.5173</td>\n",
       "      <td>0.7394</td>\n",
       "      <td>0.2458</td>\n",
       "      <td>0.5165</td>\n",
       "      <td>0.2508</td>\n",
       "      <td>0.3319</td>\n",
       "      <td>0.0</td>\n",
       "      <td>0.0</td>\n",
       "      <td>521.0</td>\n",
       "      <td>537.0</td>\n",
       "      <td>16.0</td>\n",
       "      <td>-0.0</td>\n",
       "    </tr>\n",
       "  </tbody>\n",
       "</table>\n",
       "</div>"
      ],
      "text/plain": [
       "      tp     fp     tn     fn    sens    spec     ppv     npv       j      f1  \\\n",
       "0  285.0  252.0  699.0  237.0  0.5214  0.7244  0.5173  0.7394  0.2458  0.5165   \n",
       "\n",
       "      mcc   brier  auc   ap  true_prev  pred_prev  prev_diff  rel_prev_diff  \n",
       "0  0.2508  0.3319  0.0  0.0      521.0      537.0       16.0           -0.0  "
      ]
     },
     "execution_count": 17,
     "metadata": {},
     "output_type": "execute_result"
    }
   ],
   "source": [
    "import tools\n",
    "stats = tools.clf_metrics(y_true, y_pred)\n",
    "stats"
   ]
  },
  {
   "cell_type": "code",
   "execution_count": 18,
   "metadata": {},
   "outputs": [
    {
     "name": "stdout",
     "output_type": "stream",
     "text": [
      "\n",
      "Pre-adjustment group rates are \n",
      "\n",
      "0\n",
      "      fpr     tpr\n",
      "1  0.3547  0.7027\n",
      "2  0.1772  0.4429\n",
      "3  0.2099  0.3333\n",
      "\n",
      "1\n",
      "      fpr     tpr\n",
      "1  0.3358  0.6143\n",
      "2  0.0787  0.2953\n",
      "3  0.3550  0.5380\n",
      "\n",
      "\n",
      "And loss is 0.4786\n",
      "\n"
     ]
    }
   ],
   "source": [
    "from balancers import MulticlassBalancer\n",
    "pb = MulticlassBalancer(y='y_true', y_=label, a='combined', data = pred)"
   ]
  },
  {
   "cell_type": "code",
   "execution_count": 19,
   "metadata": {},
   "outputs": [
    {
     "name": "stdout",
     "output_type": "stream",
     "text": [
      "\n",
      "Pre-adjustment group rates are \n",
      "\n",
      "0\n",
      "      fpr     tpr\n",
      "1  0.3619  0.7039\n",
      "2  0.1816  0.4409\n",
      "3  0.2012  0.3262\n",
      "\n",
      "1\n",
      "      fpr     tpr\n",
      "1  0.3238  0.6061\n",
      "2  0.0814  0.3029\n",
      "3  0.3662  0.5367\n",
      "\n",
      "\n",
      "And loss is 0.4808\n",
      "\n",
      "\n",
      "Pre-adjustment group rates are \n",
      "\n",
      "0\n",
      "      fpr     tpr\n",
      "1  0.3521  0.6837\n",
      "2  0.1652  0.4615\n",
      "3  0.2209  0.3504\n",
      "\n",
      "1\n",
      "      fpr     tpr\n",
      "1  0.3495  0.6213\n",
      "2  0.0767  0.2924\n",
      "3  0.3476  0.5278\n",
      "\n",
      "\n",
      "And loss is 0.4785\n",
      "\n",
      "\n",
      "Pre-adjustment group rates are \n",
      "\n",
      "0\n",
      "      fpr     tpr\n",
      "1  0.3577  0.7015\n",
      "2  0.1842  0.4454\n",
      "3  0.2094  0.3121\n",
      "\n",
      "1\n",
      "      fpr     tpr\n",
      "1  0.3320  0.6154\n",
      "2  0.0830  0.3051\n",
      "3  0.3567  0.5263\n",
      "\n",
      "\n",
      "And loss is 0.4823\n",
      "\n",
      "\n",
      "Pre-adjustment group rates are \n",
      "\n",
      "0\n",
      "      fpr     tpr\n",
      "1  0.3398  0.7067\n",
      "2  0.1792  0.4628\n",
      "3  0.2036  0.3406\n",
      "\n",
      "1\n",
      "      fpr     tpr\n",
      "1  0.3340  0.6168\n",
      "2  0.0770  0.3099\n",
      "3  0.3488  0.5438\n",
      "\n",
      "\n",
      "And loss is 0.4691\n",
      "\n",
      "\n",
      "Pre-adjustment group rates are \n",
      "\n",
      "0\n",
      "      fpr     tpr\n",
      "1  0.3633  0.7172\n",
      "2  0.1789  0.4274\n",
      "3  0.2050  0.3217\n",
      "\n",
      "1\n",
      "      fpr     tpr\n",
      "1  0.3306  0.6123\n",
      "2  0.0770  0.2832\n",
      "3  0.3601  0.5478\n",
      "\n",
      "\n",
      "And loss is 0.4789\n",
      "\n",
      "\n",
      "Pre-adjustment group rates are \n",
      "\n",
      "0\n",
      "      fpr     tpr\n",
      "1  0.3626  0.6959\n",
      "2  0.1794  0.4252\n",
      "3  0.2118  0.3425\n",
      "\n",
      "1\n",
      "      fpr     tpr\n",
      "1  0.3265  0.5989\n",
      "2  0.0825  0.3036\n",
      "3  0.3594  0.5497\n",
      "\n",
      "\n",
      "And loss is 0.4811\n",
      "\n",
      "\n",
      "Pre-adjustment group rates are \n",
      "\n",
      "0\n",
      "      fpr     tpr\n",
      "1  0.3596  0.7026\n",
      "2  0.1672  0.4567\n",
      "3  0.2050  0.3500\n",
      "\n",
      "1\n",
      "      fpr     tpr\n",
      "1  0.3434  0.6148\n",
      "2  0.0803  0.2849\n",
      "3  0.3560  0.5266\n",
      "\n",
      "\n",
      "And loss is 0.4811\n",
      "\n",
      "\n",
      "Pre-adjustment group rates are \n",
      "\n",
      "0\n",
      "      fpr     tpr\n",
      "1  0.3582  0.6954\n",
      "2  0.1853  0.4160\n",
      "3  0.2174  0.3287\n",
      "\n",
      "1\n",
      "      fpr     tpr\n",
      "1  0.3327  0.6376\n",
      "2  0.0745  0.3068\n",
      "3  0.3402  0.5471\n",
      "\n",
      "\n",
      "And loss is 0.4744\n",
      "\n",
      "\n",
      "Pre-adjustment group rates are \n",
      "\n",
      "0\n",
      "      fpr     tpr\n",
      "1  0.3542  0.7056\n",
      "2  0.1731  0.4361\n",
      "3  0.2182  0.3261\n",
      "\n",
      "1\n",
      "      fpr     tpr\n",
      "1  0.3441  0.6126\n",
      "2  0.0764  0.2712\n",
      "3  0.3586  0.5394\n",
      "\n",
      "\n",
      "And loss is 0.4842\n",
      "\n",
      "\n",
      "Pre-adjustment group rates are \n",
      "\n",
      "0\n",
      "      fpr     tpr\n",
      "1  0.3371  0.7136\n",
      "2  0.1778  0.4567\n",
      "3  0.2072  0.3358\n",
      "\n",
      "1\n",
      "      fpr     tpr\n",
      "1  0.3409  0.6075\n",
      "2  0.0787  0.2941\n",
      "3  0.3561  0.5350\n",
      "\n",
      "\n",
      "And loss is 0.4759\n",
      "\n",
      "\n",
      "Post-adjustment rates for all groups are \n",
      "\n",
      "      fpr     tpr\n",
      "1  0.3277  0.3514\n",
      "2  0.1455  0.1643\n",
      "3  0.5525  0.4167\n",
      "\n",
      "And loss is 0.6682\n",
      "\n"
     ]
    }
   ],
   "source": [
    "#long output is due to it being printed for each iteration of the cross-validation process. Can be turned off by setting summary = false.\n",
    "y_adj = pb.adjust(cv=True,summary = True)"
   ]
  },
  {
   "cell_type": "code",
   "execution_count": 20,
   "metadata": {},
   "outputs": [],
   "source": [
    "datapred = deepcopy(pred)\n",
    "datapred[label] = y_adj"
   ]
  },
  {
   "cell_type": "code",
   "execution_count": 21,
   "metadata": {},
   "outputs": [],
   "source": [
    "blackboxmetrics = get_metrics( data, datapred , unpriv_group, label, 1)"
   ]
  },
  {
   "cell_type": "markdown",
   "metadata": {},
   "source": [
    "## Plot"
   ]
  },
  {
   "cell_type": "code",
   "execution_count": 22,
   "metadata": {},
   "outputs": [],
   "source": [
    "df = prepareplots(metrics,'cmc')"
   ]
  },
  {
   "cell_type": "code",
   "execution_count": 23,
   "metadata": {},
   "outputs": [
    {
     "data": {
      "image/png": "[encoded data removed]",
      "text/plain": [
       "<Figure size 720x576 with 1 Axes>"
      ]
     },
     "metadata": {},
     "output_type": "display_data"
    }
   ],
   "source": [
    "points = preparepoints(blackboxmetrics, demv.get_iters())\n",
    "plot_metrics_curves(df, points, title='CMC Multiclass Dataset')"
   ]
  },
  {
   "cell_type": "code",
   "execution_count": 24,
   "metadata": {},
   "outputs": [
    {
     "name": "stdout",
     "output_type": "stream",
     "text": [
      "Dataset size: 1473\n",
      "Unprivileged group size: 955\n",
      "Percentage of unprivileged group: 64.8336727766463\n",
      "Number of iterations: 15\n"
     ]
    }
   ],
   "source": [
    "unprivpergentage(data,unpriv_group, demv.get_iters())"
   ]
  }
 ],
 "metadata": {
  "interpreter": {
   "hash": "6a7a870b3111e0122f7f892e19f4e5976fc63350699b82f8b42e0c462fa7f0d1"
  },
  "kernelspec": {
   "display_name": "Python 3.8.8 64-bit ('tesi': conda)",
   "language": "python",
   "name": "python3"
  },
  "language_info": {
   "codemirror_mode": {
    "name": "ipython",
    "version": 3
   },
   "file_extension": ".py",
   "mimetype": "text/x-python",
   "name": "python",
   "nbconvert_exporter": "python",
   "pygments_lexer": "ipython3",
   "version": "3.8.12"
  },
  "orig_nbformat": 4
 },
 "nbformat": 4,
 "nbformat_minor": 2
}
