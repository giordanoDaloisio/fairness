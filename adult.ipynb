{
 "cells": [
  {
   "cell_type": "markdown",
   "metadata": {},
   "source": [
    "# Adult Dataset"
   ]
  },
  {
   "cell_type": "code",
   "execution_count": 1,
   "metadata": {},
   "outputs": [],
   "source": [
    "import sys\n",
    "sys.path.append('../')\n",
    "\n",
    "import pandas as pd\n",
    "\n",
    "from sklearn.linear_model import LogisticRegression\n",
    "from sklearn.preprocessing import StandardScaler, LabelEncoder, OrdinalEncoder\n",
    "from sklearn.pipeline import Pipeline\n",
    "\n",
    "from fairlearn.reductions import ExponentiatedGradient, BoundedGroupLoss, ZeroOneLoss, DemographicParity, GridSearch\n",
    "\n",
    "import seaborn as sns\n",
    "\n",
    "from utils import *\n",
    "from demv import DEMV\n",
    "\n",
    "import warnings\n",
    "warnings.filterwarnings('ignore')\n",
    "\n",
    "sns.set_style('whitegrid')"
   ]
  },
  {
   "cell_type": "code",
   "execution_count": 2,
   "metadata": {},
   "outputs": [],
   "source": [
    "def load_dataset():\n",
    "  lab_enc = LabelEncoder()\n",
    "  ord_enc = OrdinalEncoder()\n",
    "  column_names = ['age', 'workclass', 'fnlwgt', 'education', 'education-num', 'marital-status',\n",
    "                  'occupation', 'relationship', 'race', 'sex', 'capital-gain', 'capital-loss',\n",
    "                  'hours-per-week', 'native-country', 'income']\n",
    "  adult_df = pd.read_csv('data2/adult.data', names=column_names)\n",
    "  adult_df.drop(adult_df[(adult_df['race'] != ' Black') & (\n",
    "      adult_df['race'] != ' White')].index, inplace=True)\n",
    "  adult_df.loc[adult_df['native-country'] ==\n",
    "                ' ?', 'native-country'] = 'Not known'\n",
    "  adult_df['age_class'] = pd.cut(adult_df['age'],\n",
    "                                  bins=[0, 9, 19, 29, 39, 49, 59, 69, 99],\n",
    "                                  labels=['age<10', 'age between 10 and 20', 'age between 20 and 30',\n",
    "                                          'age between 30 and 40', 'age between 40 and 50',\n",
    "                                          'age between 50 and 60', 'age between 60 and 70', 'age>70']\n",
    "                                  )\n",
    "  adult_df['hour-per-week-class'] = pd.cut(adult_df['hours-per-week'],\n",
    "                                            bins=[0, 9, 19, 29, 39, 49, 99],\n",
    "                                            labels=['hour<10', 'hours between 10 and 20', 'hours between 20 and 30',\n",
    "                                                    'hours between 30 and 40', 'hour between 40 and 50',\n",
    "                                                    'hour>70']\n",
    "                                            )\n",
    "  adult_df.drop(labels=['hours-per-week', 'workclass', 'fnlwgt', 'capital-gain', 'capital-loss', 'age', 'education-num'],\n",
    "                axis=1, inplace=True)\n",
    "  adult_df = adult_df.join(pd.get_dummies(\n",
    "      adult_df['education'])).drop('education', axis=1)\n",
    "  adult_df = adult_df.join(pd.get_dummies(\n",
    "      adult_df['marital-status'])).drop('marital-status', axis=1)\n",
    "  adult_df = adult_df.join(pd.get_dummies(\n",
    "      adult_df['occupation'])).drop('occupation', axis=1)\n",
    "  adult_df = adult_df.join(pd.get_dummies(\n",
    "      adult_df['relationship'])).drop('relationship', axis=1)\n",
    "  adult_df = adult_df.join(pd.get_dummies(\n",
    "      adult_df['native-country'])).drop('native-country', axis=1)\n",
    "  adult_df = adult_df.join(pd.get_dummies(\n",
    "      adult_df['age_class'])).drop('age_class', axis=1)\n",
    "  adult_df = adult_df.join(pd.get_dummies(\n",
    "      adult_df['hour-per-week-class'])).drop('hour-per-week-class', axis=1)\n",
    "  adult_df['income'] = lab_enc.fit_transform(adult_df['income'])\n",
    "  adult_df[['sex', 'race']] = ord_enc.fit_transform(\n",
    "      adult_df[['sex', 'race']])\n",
    "  return adult_df\n"
   ]
  },
  {
   "cell_type": "code",
   "execution_count": 3,
   "metadata": {},
   "outputs": [],
   "source": [
    "data = load_dataset()"
   ]
  },
  {
   "cell_type": "code",
   "execution_count": 4,
   "metadata": {},
   "outputs": [],
   "source": [
    "label = 'income'\n",
    "sensitive_features = ['race', 'sex']\n",
    "unpriv_group = {'sex': 0, 'race': 0}\n",
    "positive_label = 1"
   ]
  },
  {
   "cell_type": "code",
   "execution_count": 5,
   "metadata": {},
   "outputs": [],
   "source": [
    "pipeline = Pipeline(\n",
    "    steps=[\n",
    "        (\"scaler\", StandardScaler()),\n",
    "        (\n",
    "            \"classifier\",\n",
    "            LogisticRegression(),\n",
    "        ),\n",
    "    ]\n",
    ")"
   ]
  },
  {
   "cell_type": "markdown",
   "metadata": {},
   "source": [
    "## Biased data"
   ]
  },
  {
   "cell_type": "code",
   "execution_count": 6,
   "metadata": {},
   "outputs": [],
   "source": [
    "model, bias_metrics = cross_val(pipeline, data, label, unpriv_group, sensitive_features, positive_label=positive_label)"
   ]
  },
  {
   "cell_type": "code",
   "execution_count": 7,
   "metadata": {},
   "outputs": [
    {
     "name": "stdout",
     "output_type": "stream",
     "text": [
      "Statistical parity:  -0.17  +-  0.016\n",
      "Disparate impact:  0.174  +-  0.067\n",
      "Zero one loss:  0.156  +-  0.01\n",
      "F1 score:  0.829  +-  0.007\n",
      "Accuracy score:  0.835  +-  0.007\n"
     ]
    }
   ],
   "source": [
    "print_metrics(bias_metrics)"
   ]
  },
  {
   "cell_type": "markdown",
   "metadata": {},
   "source": [
    "## Grid Search"
   ]
  },
  {
   "cell_type": "code",
   "execution_count": 8,
   "metadata": {},
   "outputs": [],
   "source": [
    "grid = GridSearch(pipeline, DemographicParity(),\n",
    "                  sample_weight_name=\"classifier__sample_weight\")\n",
    "model, grid_metrics = cross_val(grid, data.copy(), label, unpriv_group, sensitive_features, positive_label, exp=True)\n",
    "save_metrics('grid', 'adult', grid_metrics)\n"
   ]
  },
  {
   "cell_type": "code",
   "execution_count": 9,
   "metadata": {},
   "outputs": [
    {
     "name": "stdout",
     "output_type": "stream",
     "text": [
      "Statistical parity:  -0.366  +-  0.007\n",
      "Disparate impact:  1.0  +-  0.0\n",
      "Zero one loss:  0.237  +-  0.011\n",
      "F1 score:  0.783  +-  0.004\n",
      "Accuracy score:  0.771  +-  0.005\n"
     ]
    }
   ],
   "source": [
    "print_metrics(grid_metrics)"
   ]
  },
  {
   "cell_type": "markdown",
   "metadata": {},
   "source": [
    "## DEMV"
   ]
  },
  {
   "cell_type": "code",
   "execution_count": 10,
   "metadata": {},
   "outputs": [],
   "source": [
    "demv_data = data.copy()\n",
    "demv = DEMV(round_level=1)"
   ]
  },
  {
   "cell_type": "code",
   "execution_count": 11,
   "metadata": {},
   "outputs": [],
   "source": [
    "model, demv_metrics = cross_val(pipeline, demv_data, label, unpriv_group, sensitive_features, debiaser=demv, positive_label=positive_label)"
   ]
  },
  {
   "cell_type": "markdown",
   "metadata": {},
   "source": [
    "Training time: ~27 min"
   ]
  },
  {
   "cell_type": "code",
   "execution_count": 12,
   "metadata": {},
   "outputs": [],
   "source": [
    "iters = demv.get_iters()"
   ]
  },
  {
   "cell_type": "code",
   "execution_count": 13,
   "metadata": {},
   "outputs": [
    {
     "name": "stdout",
     "output_type": "stream",
     "text": [
      "Statistical parity:  -0.097  +-  0.021\n",
      "Disparate impact:  0.485  +-  0.11\n",
      "Zero one loss:  0.142  +-  0.015\n",
      "F1 score:  0.823  +-  0.004\n",
      "Accuracy score:  0.832  +-  0.004\n"
     ]
    }
   ],
   "source": [
    "print_metrics(demv_metrics)"
   ]
  },
  {
   "cell_type": "markdown",
   "metadata": {},
   "source": [
    "## DEMV evaluation"
   ]
  },
  {
   "cell_type": "code",
   "execution_count": 14,
   "metadata": {},
   "outputs": [],
   "source": [
    "metrics = eval_demv(200, 1081, data.copy(), pipeline, label, unpriv_group, sensitive_features, positive_label=positive_label)"
   ]
  },
  {
   "cell_type": "markdown",
   "metadata": {},
   "source": [
    "##  Blackbox Postprocessing"
   ]
  },
  {
   "cell_type": "code",
   "execution_count": 15,
   "metadata": {},
   "outputs": [
    {
     "name": "stdout",
     "output_type": "stream",
     "text": [
      "\n",
      "Pre-adjustment group rates are \n",
      "\n",
      " group    fpr    tpr\n",
      "   0.0 0.0916 0.5871\n",
      "   1.0 0.0449 0.3143\n",
      "\n",
      "And loss is 0.1665\n",
      "\n",
      "\n",
      "Pre-adjustment group rates are \n",
      "\n",
      " group    fpr    tpr\n",
      "   0.0 0.0786 0.5935\n",
      "   1.0 0.0193 0.2895\n",
      "\n",
      "And loss is 0.1568\n",
      "\n",
      "\n",
      "Pre-adjustment group rates are \n",
      "\n",
      " group    fpr    tpr\n",
      "   0.0 0.0796 0.5738\n",
      "   1.0 0.0286 0.5152\n",
      "\n",
      "And loss is 0.1613\n",
      "\n",
      "\n",
      "Pre-adjustment group rates are \n",
      "\n",
      " group    fpr    tpr\n",
      "   0.0 0.0838 0.5866\n",
      "   1.0 0.0346 0.2500\n",
      "\n",
      "And loss is 0.1655\n",
      "\n",
      "\n",
      "Pre-adjustment group rates are \n",
      "\n",
      " group    fpr    tpr\n",
      "   0.0 0.0907 0.6177\n",
      "   1.0 0.0246 0.3056\n",
      "\n",
      "And loss is 0.1597\n",
      "\n",
      "\n",
      "Pre-adjustment group rates are \n",
      "\n",
      " group    fpr    tpr\n",
      "   0.0 0.0894 0.5682\n",
      "   1.0 0.0276 0.4878\n",
      "\n",
      "And loss is 0.1671\n",
      "\n",
      "\n",
      "Pre-adjustment group rates are \n",
      "\n",
      " group    fpr    tpr\n",
      "   0.0 0.0941 0.5297\n",
      "   1.0 0.0222 0.4091\n",
      "\n",
      "And loss is 0.1810\n",
      "\n",
      "\n",
      "Pre-adjustment group rates are \n",
      "\n",
      " group    fpr    tpr\n",
      "   0.0 0.0782 0.5775\n",
      "   1.0 0.0303 0.3235\n",
      "\n",
      "And loss is 0.1584\n",
      "\n",
      "\n",
      "Pre-adjustment group rates are \n",
      "\n",
      " group    fpr    tpr\n",
      "   0.0 0.0797 0.5697\n",
      "   1.0 0.0335 0.3542\n",
      "\n",
      "And loss is 0.1674\n",
      "\n",
      "\n",
      "Pre-adjustment group rates are \n",
      "\n",
      " group    fpr    tpr\n",
      "   0.0 0.0861 0.5539\n",
      "   1.0 0.0346 0.3810\n",
      "\n",
      "And loss is 0.1677\n",
      "\n"
     ]
    }
   ],
   "source": [
    "model, blackboxmetrics, pred = cross_valbin(pipeline, data, label, unpriv_group, sensitive_features, positive_label=positive_label)"
   ]
  },
  {
   "cell_type": "markdown",
   "metadata": {},
   "source": [
    "##  Plot"
   ]
  },
  {
   "cell_type": "markdown",
   "metadata": {},
   "source": [
    "Training time: 205 mins"
   ]
  },
  {
   "cell_type": "code",
   "execution_count": 16,
   "metadata": {},
   "outputs": [],
   "source": [
    "df = prepareplots(metrics,'adult')"
   ]
  },
  {
   "cell_type": "code",
   "execution_count": 17,
   "metadata": {},
   "outputs": [
    {
     "data": {
      "image/png": "[encoded data removed]",
      "text/plain": [
       "<Figure size 720x576 with 1 Axes>"
      ]
     },
     "metadata": {},
     "output_type": "display_data"
    }
   ],
   "source": [
    "#iters = 1000\n",
    "points = preparepoints(blackboxmetrics, demv.get_iters())\n",
    "\n",
    "plot_metrics_curves(df, points, 'Adult binary dataset')"
   ]
  },
  {
   "cell_type": "code",
   "execution_count": 18,
   "metadata": {},
   "outputs": [
    {
     "name": "stdout",
     "output_type": "stream",
     "text": [
      "Dataset size: 30940\n",
      "Unprivileged group size: 1555\n",
      "Percentage of unprivileged group: 5.025856496444732\n",
      "Number of iterations: 1081\n"
     ]
    }
   ],
   "source": [
    "unprivpergentage(data,unpriv_group, demv.get_iters())"
   ]
  },
  {
   "cell_type": "code",
   "execution_count": 19,
   "metadata": {},
   "outputs": [],
   "source": [
    "save_metrics('blackbox', 'adult', blackboxmetrics)"
   ]
  }
 ],
 "metadata": {
  "interpreter": {
   "hash": "6a7a870b3111e0122f7f892e19f4e5976fc63350699b82f8b42e0c462fa7f0d1"
  },
  "kernelspec": {
   "display_name": "Python 3.8.8 64-bit ('tesi': conda)",
   "language": "python",
   "name": "python3"
  },
  "language_info": {
   "codemirror_mode": {
    "name": "ipython",
    "version": 3
   },
   "file_extension": ".py",
   "mimetype": "text/x-python",
   "name": "python",
   "nbconvert_exporter": "python",
   "pygments_lexer": "ipython3",
   "version": "3.8.12"
  },
  "orig_nbformat": 4
 },
 "nbformat": 4,
 "nbformat_minor": 2
}
